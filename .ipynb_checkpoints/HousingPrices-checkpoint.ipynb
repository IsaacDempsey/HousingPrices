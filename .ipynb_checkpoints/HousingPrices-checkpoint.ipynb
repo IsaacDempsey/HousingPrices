{
 "cells": [
  {
   "cell_type": "code",
   "execution_count": null,
   "metadata": {},
   "outputs": [],
   "source": [
    "# Imports.\n",
    "import math\n",
    "import pandas as pd\n",
    "import numpy as np\n",
    "import matplotlib.patches as mpatches # For graph colours\n",
    "import statsmodels.formula.api as sm # for training a linear regression model.\n",
    "import seaborn as sns # For making correlation matrices\n",
    "import matplotlib.pyplot as plt\n",
    "from sklearn.metrics import confusion_matrix # for making confusion martrices Note: Not needed.\n",
    "from sklearn.metrics import accuracy_score # Prediction accuracy: (tp + tn) / total\n",
    "from sklearn.metrics import precision_score # Computing precision: tp / (tp + fp)\n",
    "from sklearn.metrics import recall_score # Recall Score: tp / (tp + fn)\n",
    "from sklearn.metrics import f1_score # F1 = 2 * (precision * recall) / (precision + recall)\n",
    "from sklearn.linear_model import LinearRegression\n",
    "from sklearn.linear_model import LogisticRegression\n",
    "from sklearn.cross_validation import cross_val_score\n",
    "\n",
    "#For showing plots directly in the notebook run the command below\n",
    "%matplotlib inline\n",
    "%config IPCompleter.greedy=True\n",
    "\n",
    "# Prevents tables from being truncated.\n",
    "pd.set_option('display.max_columns', None)"
   ]
  }
 ],
 "metadata": {
  "kernelspec": {
   "display_name": "Python 3",
   "language": "python",
   "name": "python3"
  },
  "language_info": {
   "codemirror_mode": {
    "name": "ipython",
    "version": 3
   },
   "file_extension": ".py",
   "mimetype": "text/x-python",
   "name": "python",
   "nbconvert_exporter": "python",
   "pygments_lexer": "ipython3",
   "version": "3.6.3"
  }
 },
 "nbformat": 4,
 "nbformat_minor": 2
}
